{
 "cells": [
  {
   "cell_type": "code",
   "execution_count": 792,
   "id": "221d526f",
   "metadata": {},
   "outputs": [],
   "source": [
    "import pandas as pd"
   ]
  },
  {
   "cell_type": "code",
   "execution_count": 793,
   "id": "8fe518b1",
   "metadata": {},
   "outputs": [
    {
     "name": "stdout",
     "output_type": "stream",
     "text": [
      "c:\\Personal Files\\Arya\\Programs\\FloatChat\\datasets\n"
     ]
    }
   ],
   "source": [
    "%cd ../datasets/"
   ]
  },
  {
   "cell_type": "code",
   "execution_count": 794,
   "id": "7fb970dc",
   "metadata": {},
   "outputs": [],
   "source": [
    "year=input('Enter the year(2001-2017): ')"
   ]
  },
  {
   "cell_type": "code",
   "execution_count": 795,
   "id": "a21e8b7c",
   "metadata": {},
   "outputs": [],
   "source": [
    "#Cleaning the dataset 2002\n",
    "df=pd.read_csv(f'ARGO_DB_{year}.csv')"
   ]
  },
  {
   "cell_type": "code",
   "execution_count": 796,
   "id": "453cade3",
   "metadata": {},
   "outputs": [
    {
     "data": {
      "text/html": [
       "<div>\n",
       "<style scoped>\n",
       "    .dataframe tbody tr th:only-of-type {\n",
       "        vertical-align: middle;\n",
       "    }\n",
       "\n",
       "    .dataframe tbody tr th {\n",
       "        vertical-align: top;\n",
       "    }\n",
       "\n",
       "    .dataframe thead th {\n",
       "        text-align: right;\n",
       "    }\n",
       "</style>\n",
       "<table border=\"1\" class=\"dataframe\">\n",
       "  <thead>\n",
       "    <tr style=\"text-align: right;\">\n",
       "      <th></th>\n",
       "      <th>ad_observation_id</th>\n",
       "      <th>depth</th>\n",
       "      <th>depth_flag</th>\n",
       "      <th>temperature</th>\n",
       "      <th>temperature_flag</th>\n",
       "      <th>salinity</th>\n",
       "      <th>salinity_flag</th>\n",
       "      <th>density</th>\n",
       "      <th>density_flag</th>\n",
       "      <th>EEZ_flag</th>\n",
       "    </tr>\n",
       "  </thead>\n",
       "  <tbody>\n",
       "    <tr>\n",
       "      <th>0</th>\n",
       "      <td>1900816_06/01/2017</td>\n",
       "      <td>4.6</td>\n",
       "      <td>1</td>\n",
       "      <td>28.856</td>\n",
       "      <td>1</td>\n",
       "      <td>35.298</td>\n",
       "      <td>1</td>\n",
       "      <td>1022.338013</td>\n",
       "      <td>1</td>\n",
       "      <td>NaN</td>\n",
       "    </tr>\n",
       "    <tr>\n",
       "      <th>1</th>\n",
       "      <td>1900816_06/01/2017</td>\n",
       "      <td>10.4</td>\n",
       "      <td>1</td>\n",
       "      <td>28.558</td>\n",
       "      <td>1</td>\n",
       "      <td>35.343</td>\n",
       "      <td>1</td>\n",
       "      <td>1022.471008</td>\n",
       "      <td>1</td>\n",
       "      <td>NaN</td>\n",
       "    </tr>\n",
       "    <tr>\n",
       "      <th>2</th>\n",
       "      <td>1900816_06/01/2017</td>\n",
       "      <td>17.7</td>\n",
       "      <td>1</td>\n",
       "      <td>27.923</td>\n",
       "      <td>1</td>\n",
       "      <td>35.369</td>\n",
       "      <td>1</td>\n",
       "      <td>1022.700012</td>\n",
       "      <td>1</td>\n",
       "      <td>NaN</td>\n",
       "    </tr>\n",
       "    <tr>\n",
       "      <th>3</th>\n",
       "      <td>1900816_06/01/2017</td>\n",
       "      <td>24.6</td>\n",
       "      <td>1</td>\n",
       "      <td>27.439</td>\n",
       "      <td>1</td>\n",
       "      <td>35.338</td>\n",
       "      <td>1</td>\n",
       "      <td>1022.833008</td>\n",
       "      <td>1</td>\n",
       "      <td>NaN</td>\n",
       "    </tr>\n",
       "    <tr>\n",
       "      <th>4</th>\n",
       "      <td>1900816_06/01/2017</td>\n",
       "      <td>31.3</td>\n",
       "      <td>1</td>\n",
       "      <td>27.042</td>\n",
       "      <td>1</td>\n",
       "      <td>35.282</td>\n",
       "      <td>1</td>\n",
       "      <td>1022.919006</td>\n",
       "      <td>1</td>\n",
       "      <td>NaN</td>\n",
       "    </tr>\n",
       "    <tr>\n",
       "      <th>...</th>\n",
       "      <td>...</td>\n",
       "      <td>...</td>\n",
       "      <td>...</td>\n",
       "      <td>...</td>\n",
       "      <td>...</td>\n",
       "      <td>...</td>\n",
       "      <td>...</td>\n",
       "      <td>...</td>\n",
       "      <td>...</td>\n",
       "      <td>...</td>\n",
       "    </tr>\n",
       "    <tr>\n",
       "      <th>5647092</th>\n",
       "      <td>5902487_08/01/2017</td>\n",
       "      <td>622.0</td>\n",
       "      <td>1</td>\n",
       "      <td>7.716</td>\n",
       "      <td>1</td>\n",
       "      <td>34.539</td>\n",
       "      <td>1</td>\n",
       "      <td>1026.953979</td>\n",
       "      <td>1</td>\n",
       "      <td>NaN</td>\n",
       "    </tr>\n",
       "    <tr>\n",
       "      <th>5647093</th>\n",
       "      <td>5902487_08/01/2017</td>\n",
       "      <td>624.0</td>\n",
       "      <td>1</td>\n",
       "      <td>7.712</td>\n",
       "      <td>1</td>\n",
       "      <td>34.538</td>\n",
       "      <td>1</td>\n",
       "      <td>1026.953979</td>\n",
       "      <td>1</td>\n",
       "      <td>NaN</td>\n",
       "    </tr>\n",
       "    <tr>\n",
       "      <th>5647094</th>\n",
       "      <td>5902487_08/01/2017</td>\n",
       "      <td>626.0</td>\n",
       "      <td>1</td>\n",
       "      <td>7.639</td>\n",
       "      <td>1</td>\n",
       "      <td>34.534</td>\n",
       "      <td>1</td>\n",
       "      <td>1026.961060</td>\n",
       "      <td>1</td>\n",
       "      <td>NaN</td>\n",
       "    </tr>\n",
       "    <tr>\n",
       "      <th>5647095</th>\n",
       "      <td>5902487_08/01/2017</td>\n",
       "      <td>628.0</td>\n",
       "      <td>1</td>\n",
       "      <td>7.584</td>\n",
       "      <td>1</td>\n",
       "      <td>34.528</td>\n",
       "      <td>1</td>\n",
       "      <td>1026.964966</td>\n",
       "      <td>1</td>\n",
       "      <td>NaN</td>\n",
       "    </tr>\n",
       "    <tr>\n",
       "      <th>5647096</th>\n",
       "      <td>5902487_08/01/2017</td>\n",
       "      <td>630.0</td>\n",
       "      <td>1</td>\n",
       "      <td>7.556</td>\n",
       "      <td>1</td>\n",
       "      <td>34.526</td>\n",
       "      <td>1</td>\n",
       "      <td>1026.967041</td>\n",
       "      <td>1</td>\n",
       "      <td>NaN</td>\n",
       "    </tr>\n",
       "  </tbody>\n",
       "</table>\n",
       "<p>5647097 rows × 10 columns</p>\n",
       "</div>"
      ],
      "text/plain": [
       "          ad_observation_id  depth  depth_flag  temperature  temperature_flag  \\\n",
       "0        1900816_06/01/2017    4.6           1       28.856                 1   \n",
       "1        1900816_06/01/2017   10.4           1       28.558                 1   \n",
       "2        1900816_06/01/2017   17.7           1       27.923                 1   \n",
       "3        1900816_06/01/2017   24.6           1       27.439                 1   \n",
       "4        1900816_06/01/2017   31.3           1       27.042                 1   \n",
       "...                     ...    ...         ...          ...               ...   \n",
       "5647092  5902487_08/01/2017  622.0           1        7.716                 1   \n",
       "5647093  5902487_08/01/2017  624.0           1        7.712                 1   \n",
       "5647094  5902487_08/01/2017  626.0           1        7.639                 1   \n",
       "5647095  5902487_08/01/2017  628.0           1        7.584                 1   \n",
       "5647096  5902487_08/01/2017  630.0           1        7.556                 1   \n",
       "\n",
       "         salinity  salinity_flag      density  density_flag  EEZ_flag  \n",
       "0          35.298              1  1022.338013             1       NaN  \n",
       "1          35.343              1  1022.471008             1       NaN  \n",
       "2          35.369              1  1022.700012             1       NaN  \n",
       "3          35.338              1  1022.833008             1       NaN  \n",
       "4          35.282              1  1022.919006             1       NaN  \n",
       "...           ...            ...          ...           ...       ...  \n",
       "5647092    34.539              1  1026.953979             1       NaN  \n",
       "5647093    34.538              1  1026.953979             1       NaN  \n",
       "5647094    34.534              1  1026.961060             1       NaN  \n",
       "5647095    34.528              1  1026.964966             1       NaN  \n",
       "5647096    34.526              1  1026.967041             1       NaN  \n",
       "\n",
       "[5647097 rows x 10 columns]"
      ]
     },
     "execution_count": 796,
     "metadata": {},
     "output_type": "execute_result"
    }
   ],
   "source": [
    "df"
   ]
  },
  {
   "cell_type": "code",
   "execution_count": 797,
   "id": "9858a64d",
   "metadata": {},
   "outputs": [
    {
     "name": "stdout",
     "output_type": "stream",
     "text": [
      "<class 'pandas.core.frame.DataFrame'>\n",
      "RangeIndex: 5647097 entries, 0 to 5647096\n",
      "Data columns (total 10 columns):\n",
      " #   Column             Dtype  \n",
      "---  ------             -----  \n",
      " 0   ad_observation_id  object \n",
      " 1   depth              float64\n",
      " 2   depth_flag         int64  \n",
      " 3   temperature        float64\n",
      " 4   temperature_flag   int64  \n",
      " 5   salinity           float64\n",
      " 6   salinity_flag      int64  \n",
      " 7   density            float64\n",
      " 8   density_flag       int64  \n",
      " 9   EEZ_flag           float64\n",
      "dtypes: float64(5), int64(4), object(1)\n",
      "memory usage: 430.8+ MB\n"
     ]
    }
   ],
   "source": [
    "df.info() #Info about the dataset"
   ]
  },
  {
   "cell_type": "code",
   "execution_count": 798,
   "id": "025c6f59",
   "metadata": {},
   "outputs": [
    {
     "data": {
      "text/plain": [
       "ad_observation_id          0\n",
       "depth                      0\n",
       "depth_flag                 0\n",
       "temperature                0\n",
       "temperature_flag           0\n",
       "salinity                   0\n",
       "salinity_flag              0\n",
       "density                    0\n",
       "density_flag               0\n",
       "EEZ_flag             5647097\n",
       "dtype: int64"
      ]
     },
     "execution_count": 798,
     "metadata": {},
     "output_type": "execute_result"
    }
   ],
   "source": [
    "df.isnull().sum() ##No null values - checked"
   ]
  },
  {
   "cell_type": "code",
   "execution_count": 799,
   "id": "38f7d9a4",
   "metadata": {},
   "outputs": [],
   "source": [
    "# Set threshold (e.g., drop if more than 90% values are null)\n",
    "threshold = 0.3\n",
    "\n",
    "# Calculate null ratio per column\n",
    "null_ratio = df.isna().sum() / len(df)\n",
    "\n",
    "# Columns where null ratio exceeds threshold\n",
    "cols_to_drop = null_ratio[null_ratio > threshold].index.tolist()\n",
    "\n",
    "# Drop those columns\n",
    "df.drop(columns=cols_to_drop, inplace=True)\n",
    "\n",
    "# For the remaining columns, drop null rows and reset index\n",
    "df.dropna(axis=0, inplace=True)\n",
    "df.reset_index(drop=True, inplace=True)"
   ]
  },
  {
   "cell_type": "code",
   "execution_count": 800,
   "id": "eacef2d2",
   "metadata": {},
   "outputs": [
    {
     "data": {
      "text/plain": [
       "Index(['ad_observation_id', 'depth', 'depth_flag', 'temperature',\n",
       "       'temperature_flag', 'salinity', 'salinity_flag', 'density',\n",
       "       'density_flag'],\n",
       "      dtype='object')"
      ]
     },
     "execution_count": 800,
     "metadata": {},
     "output_type": "execute_result"
    }
   ],
   "source": [
    "df.columns #Checking if there's extra whitespace in columns"
   ]
  },
  {
   "cell_type": "code",
   "execution_count": 801,
   "id": "ae9f7201",
   "metadata": {},
   "outputs": [],
   "source": [
    "#Trim if extra whitespace\n",
    "df.columns = df.columns.str.strip()"
   ]
  },
  {
   "cell_type": "code",
   "execution_count": 802,
   "id": "f22fe96c",
   "metadata": {},
   "outputs": [],
   "source": [
    "#splitting ad_observation_id into separate attributes float_id and observation_date\n",
    "df[[\"wmo_id\", \"observation_date\"]] = df[\"ad_observation_id\"].str.split(\"_\", expand=True)\n",
    "\n",
    "# Convert float_id to integer\n",
    "df[\"wmo_id\"] = df[\"wmo_id\"].astype(int)\n",
    "\n",
    "# Convert observation_date to proper datetime format (YYYY-MM-DD)\n",
    "df[\"observation_date\"] = pd.to_datetime(df[\"observation_date\"], format=\"%d/%m/%Y\")\n",
    "\n",
    "#Dropping ad_observation_id\n",
    "df.drop('ad_observation_id',axis=1,inplace=True)"
   ]
  },
  {
   "cell_type": "code",
   "execution_count": 803,
   "id": "c71178d3",
   "metadata": {},
   "outputs": [
    {
     "name": "stdout",
     "output_type": "stream",
     "text": [
      "<class 'pandas.core.frame.DataFrame'>\n",
      "RangeIndex: 5647097 entries, 0 to 5647096\n",
      "Data columns (total 10 columns):\n",
      " #   Column            Dtype         \n",
      "---  ------            -----         \n",
      " 0   depth             float64       \n",
      " 1   depth_flag        int64         \n",
      " 2   temperature       float64       \n",
      " 3   temperature_flag  int64         \n",
      " 4   salinity          float64       \n",
      " 5   salinity_flag     int64         \n",
      " 6   density           float64       \n",
      " 7   density_flag      int64         \n",
      " 8   wmo_id            int64         \n",
      " 9   observation_date  datetime64[ns]\n",
      "dtypes: datetime64[ns](1), float64(4), int64(5)\n",
      "memory usage: 430.8 MB\n"
     ]
    }
   ],
   "source": [
    "#seeing new info\n",
    "\n",
    "df.info()"
   ]
  },
  {
   "cell_type": "code",
   "execution_count": 804,
   "id": "8f25a562",
   "metadata": {},
   "outputs": [
    {
     "data": {
      "text/html": [
       "<div>\n",
       "<style scoped>\n",
       "    .dataframe tbody tr th:only-of-type {\n",
       "        vertical-align: middle;\n",
       "    }\n",
       "\n",
       "    .dataframe tbody tr th {\n",
       "        vertical-align: top;\n",
       "    }\n",
       "\n",
       "    .dataframe thead th {\n",
       "        text-align: right;\n",
       "    }\n",
       "</style>\n",
       "<table border=\"1\" class=\"dataframe\">\n",
       "  <thead>\n",
       "    <tr style=\"text-align: right;\">\n",
       "      <th></th>\n",
       "      <th>depth</th>\n",
       "      <th>depth_flag</th>\n",
       "      <th>temperature</th>\n",
       "      <th>temperature_flag</th>\n",
       "      <th>salinity</th>\n",
       "      <th>salinity_flag</th>\n",
       "      <th>density</th>\n",
       "      <th>density_flag</th>\n",
       "      <th>wmo_id</th>\n",
       "      <th>observation_date</th>\n",
       "    </tr>\n",
       "  </thead>\n",
       "  <tbody>\n",
       "    <tr>\n",
       "      <th>0</th>\n",
       "      <td>4.6</td>\n",
       "      <td>1</td>\n",
       "      <td>28.856</td>\n",
       "      <td>1</td>\n",
       "      <td>35.298</td>\n",
       "      <td>1</td>\n",
       "      <td>1022.338013</td>\n",
       "      <td>1</td>\n",
       "      <td>1900816</td>\n",
       "      <td>2017-01-06</td>\n",
       "    </tr>\n",
       "    <tr>\n",
       "      <th>1</th>\n",
       "      <td>10.4</td>\n",
       "      <td>1</td>\n",
       "      <td>28.558</td>\n",
       "      <td>1</td>\n",
       "      <td>35.343</td>\n",
       "      <td>1</td>\n",
       "      <td>1022.471008</td>\n",
       "      <td>1</td>\n",
       "      <td>1900816</td>\n",
       "      <td>2017-01-06</td>\n",
       "    </tr>\n",
       "    <tr>\n",
       "      <th>2</th>\n",
       "      <td>17.7</td>\n",
       "      <td>1</td>\n",
       "      <td>27.923</td>\n",
       "      <td>1</td>\n",
       "      <td>35.369</td>\n",
       "      <td>1</td>\n",
       "      <td>1022.700012</td>\n",
       "      <td>1</td>\n",
       "      <td>1900816</td>\n",
       "      <td>2017-01-06</td>\n",
       "    </tr>\n",
       "    <tr>\n",
       "      <th>3</th>\n",
       "      <td>24.6</td>\n",
       "      <td>1</td>\n",
       "      <td>27.439</td>\n",
       "      <td>1</td>\n",
       "      <td>35.338</td>\n",
       "      <td>1</td>\n",
       "      <td>1022.833008</td>\n",
       "      <td>1</td>\n",
       "      <td>1900816</td>\n",
       "      <td>2017-01-06</td>\n",
       "    </tr>\n",
       "    <tr>\n",
       "      <th>4</th>\n",
       "      <td>31.3</td>\n",
       "      <td>1</td>\n",
       "      <td>27.042</td>\n",
       "      <td>1</td>\n",
       "      <td>35.282</td>\n",
       "      <td>1</td>\n",
       "      <td>1022.919006</td>\n",
       "      <td>1</td>\n",
       "      <td>1900816</td>\n",
       "      <td>2017-01-06</td>\n",
       "    </tr>\n",
       "  </tbody>\n",
       "</table>\n",
       "</div>"
      ],
      "text/plain": [
       "   depth  depth_flag  temperature  temperature_flag  salinity  salinity_flag  \\\n",
       "0    4.6           1       28.856                 1    35.298              1   \n",
       "1   10.4           1       28.558                 1    35.343              1   \n",
       "2   17.7           1       27.923                 1    35.369              1   \n",
       "3   24.6           1       27.439                 1    35.338              1   \n",
       "4   31.3           1       27.042                 1    35.282              1   \n",
       "\n",
       "       density  density_flag   wmo_id observation_date  \n",
       "0  1022.338013             1  1900816       2017-01-06  \n",
       "1  1022.471008             1  1900816       2017-01-06  \n",
       "2  1022.700012             1  1900816       2017-01-06  \n",
       "3  1022.833008             1  1900816       2017-01-06  \n",
       "4  1022.919006             1  1900816       2017-01-06  "
      ]
     },
     "execution_count": 804,
     "metadata": {},
     "output_type": "execute_result"
    }
   ],
   "source": [
    "df.head()"
   ]
  },
  {
   "cell_type": "code",
   "execution_count": 805,
   "id": "3159d230",
   "metadata": {},
   "outputs": [
    {
     "data": {
      "text/plain": [
       "depth_flag\n",
       "1    5587336\n",
       "2      40027\n",
       "4      19734\n",
       "Name: count, dtype: int64"
      ]
     },
     "execution_count": 805,
     "metadata": {},
     "output_type": "execute_result"
    }
   ],
   "source": [
    "df['depth_flag'].value_counts()"
   ]
  },
  {
   "cell_type": "code",
   "execution_count": 806,
   "id": "abd0ddfd",
   "metadata": {},
   "outputs": [
    {
     "data": {
      "text/plain": [
       "temperature_flag\n",
       "1    5582103\n",
       "2      40027\n",
       "4      23812\n",
       "3       1155\n",
       "Name: count, dtype: int64"
      ]
     },
     "execution_count": 806,
     "metadata": {},
     "output_type": "execute_result"
    }
   ],
   "source": [
    "df['temperature_flag'].value_counts()"
   ]
  },
  {
   "cell_type": "code",
   "execution_count": 807,
   "id": "ca698fb1",
   "metadata": {},
   "outputs": [
    {
     "data": {
      "text/plain": [
       "salinity_flag\n",
       "1    5441267\n",
       "4     126478\n",
       "3      79352\n",
       "Name: count, dtype: int64"
      ]
     },
     "execution_count": 807,
     "metadata": {},
     "output_type": "execute_result"
    }
   ],
   "source": [
    "df['salinity_flag'].value_counts()"
   ]
  },
  {
   "cell_type": "code",
   "execution_count": 808,
   "id": "6e1d2c3a",
   "metadata": {},
   "outputs": [
    {
     "data": {
      "text/plain": [
       "density_flag\n",
       "1    5440975\n",
       "4     126770\n",
       "2      40027\n",
       "3      39325\n",
       "Name: count, dtype: int64"
      ]
     },
     "execution_count": 808,
     "metadata": {},
     "output_type": "execute_result"
    }
   ],
   "source": [
    "df['density_flag'].value_counts()"
   ]
  },
  {
   "cell_type": "code",
   "execution_count": 809,
   "id": "11898a7b",
   "metadata": {},
   "outputs": [
    {
     "data": {
      "text/plain": [
       "False    3955466\n",
       "True     1691631\n",
       "Name: count, dtype: int64"
      ]
     },
     "execution_count": 809,
     "metadata": {},
     "output_type": "execute_result"
    }
   ],
   "source": [
    "#Checking for duplicate tuples\n",
    "df.duplicated().value_counts()"
   ]
  },
  {
   "cell_type": "code",
   "execution_count": 810,
   "id": "d8f43dfe",
   "metadata": {},
   "outputs": [
    {
     "data": {
      "text/html": [
       "<div>\n",
       "<style scoped>\n",
       "    .dataframe tbody tr th:only-of-type {\n",
       "        vertical-align: middle;\n",
       "    }\n",
       "\n",
       "    .dataframe tbody tr th {\n",
       "        vertical-align: top;\n",
       "    }\n",
       "\n",
       "    .dataframe thead th {\n",
       "        text-align: right;\n",
       "    }\n",
       "</style>\n",
       "<table border=\"1\" class=\"dataframe\">\n",
       "  <thead>\n",
       "    <tr style=\"text-align: right;\">\n",
       "      <th></th>\n",
       "      <th>depth</th>\n",
       "      <th>depth_flag</th>\n",
       "      <th>temperature</th>\n",
       "      <th>temperature_flag</th>\n",
       "      <th>salinity</th>\n",
       "      <th>salinity_flag</th>\n",
       "      <th>density</th>\n",
       "      <th>density_flag</th>\n",
       "      <th>wmo_id</th>\n",
       "      <th>observation_date</th>\n",
       "    </tr>\n",
       "  </thead>\n",
       "  <tbody>\n",
       "    <tr>\n",
       "      <th>0</th>\n",
       "      <td>4.6</td>\n",
       "      <td>1</td>\n",
       "      <td>28.856</td>\n",
       "      <td>1</td>\n",
       "      <td>35.298</td>\n",
       "      <td>1</td>\n",
       "      <td>1022.338013</td>\n",
       "      <td>1</td>\n",
       "      <td>1900816</td>\n",
       "      <td>2017-01-06</td>\n",
       "    </tr>\n",
       "    <tr>\n",
       "      <th>1</th>\n",
       "      <td>10.4</td>\n",
       "      <td>1</td>\n",
       "      <td>28.558</td>\n",
       "      <td>1</td>\n",
       "      <td>35.343</td>\n",
       "      <td>1</td>\n",
       "      <td>1022.471008</td>\n",
       "      <td>1</td>\n",
       "      <td>1900816</td>\n",
       "      <td>2017-01-06</td>\n",
       "    </tr>\n",
       "    <tr>\n",
       "      <th>2</th>\n",
       "      <td>17.7</td>\n",
       "      <td>1</td>\n",
       "      <td>27.923</td>\n",
       "      <td>1</td>\n",
       "      <td>35.369</td>\n",
       "      <td>1</td>\n",
       "      <td>1022.700012</td>\n",
       "      <td>1</td>\n",
       "      <td>1900816</td>\n",
       "      <td>2017-01-06</td>\n",
       "    </tr>\n",
       "    <tr>\n",
       "      <th>3</th>\n",
       "      <td>24.6</td>\n",
       "      <td>1</td>\n",
       "      <td>27.439</td>\n",
       "      <td>1</td>\n",
       "      <td>35.338</td>\n",
       "      <td>1</td>\n",
       "      <td>1022.833008</td>\n",
       "      <td>1</td>\n",
       "      <td>1900816</td>\n",
       "      <td>2017-01-06</td>\n",
       "    </tr>\n",
       "    <tr>\n",
       "      <th>4</th>\n",
       "      <td>31.3</td>\n",
       "      <td>1</td>\n",
       "      <td>27.042</td>\n",
       "      <td>1</td>\n",
       "      <td>35.282</td>\n",
       "      <td>1</td>\n",
       "      <td>1022.919006</td>\n",
       "      <td>1</td>\n",
       "      <td>1900816</td>\n",
       "      <td>2017-01-06</td>\n",
       "    </tr>\n",
       "    <tr>\n",
       "      <th>...</th>\n",
       "      <td>...</td>\n",
       "      <td>...</td>\n",
       "      <td>...</td>\n",
       "      <td>...</td>\n",
       "      <td>...</td>\n",
       "      <td>...</td>\n",
       "      <td>...</td>\n",
       "      <td>...</td>\n",
       "      <td>...</td>\n",
       "      <td>...</td>\n",
       "    </tr>\n",
       "    <tr>\n",
       "      <th>5647092</th>\n",
       "      <td>622.0</td>\n",
       "      <td>1</td>\n",
       "      <td>7.716</td>\n",
       "      <td>1</td>\n",
       "      <td>34.539</td>\n",
       "      <td>1</td>\n",
       "      <td>1026.953979</td>\n",
       "      <td>1</td>\n",
       "      <td>5902487</td>\n",
       "      <td>2017-01-08</td>\n",
       "    </tr>\n",
       "    <tr>\n",
       "      <th>5647093</th>\n",
       "      <td>624.0</td>\n",
       "      <td>1</td>\n",
       "      <td>7.712</td>\n",
       "      <td>1</td>\n",
       "      <td>34.538</td>\n",
       "      <td>1</td>\n",
       "      <td>1026.953979</td>\n",
       "      <td>1</td>\n",
       "      <td>5902487</td>\n",
       "      <td>2017-01-08</td>\n",
       "    </tr>\n",
       "    <tr>\n",
       "      <th>5647094</th>\n",
       "      <td>626.0</td>\n",
       "      <td>1</td>\n",
       "      <td>7.639</td>\n",
       "      <td>1</td>\n",
       "      <td>34.534</td>\n",
       "      <td>1</td>\n",
       "      <td>1026.961060</td>\n",
       "      <td>1</td>\n",
       "      <td>5902487</td>\n",
       "      <td>2017-01-08</td>\n",
       "    </tr>\n",
       "    <tr>\n",
       "      <th>5647095</th>\n",
       "      <td>628.0</td>\n",
       "      <td>1</td>\n",
       "      <td>7.584</td>\n",
       "      <td>1</td>\n",
       "      <td>34.528</td>\n",
       "      <td>1</td>\n",
       "      <td>1026.964966</td>\n",
       "      <td>1</td>\n",
       "      <td>5902487</td>\n",
       "      <td>2017-01-08</td>\n",
       "    </tr>\n",
       "    <tr>\n",
       "      <th>5647096</th>\n",
       "      <td>630.0</td>\n",
       "      <td>1</td>\n",
       "      <td>7.556</td>\n",
       "      <td>1</td>\n",
       "      <td>34.526</td>\n",
       "      <td>1</td>\n",
       "      <td>1026.967041</td>\n",
       "      <td>1</td>\n",
       "      <td>5902487</td>\n",
       "      <td>2017-01-08</td>\n",
       "    </tr>\n",
       "  </tbody>\n",
       "</table>\n",
       "<p>3382716 rows × 10 columns</p>\n",
       "</div>"
      ],
      "text/plain": [
       "         depth  depth_flag  temperature  temperature_flag  salinity  \\\n",
       "0          4.6           1       28.856                 1    35.298   \n",
       "1         10.4           1       28.558                 1    35.343   \n",
       "2         17.7           1       27.923                 1    35.369   \n",
       "3         24.6           1       27.439                 1    35.338   \n",
       "4         31.3           1       27.042                 1    35.282   \n",
       "...        ...         ...          ...               ...       ...   \n",
       "5647092  622.0           1        7.716                 1    34.539   \n",
       "5647093  624.0           1        7.712                 1    34.538   \n",
       "5647094  626.0           1        7.639                 1    34.534   \n",
       "5647095  628.0           1        7.584                 1    34.528   \n",
       "5647096  630.0           1        7.556                 1    34.526   \n",
       "\n",
       "         salinity_flag      density  density_flag   wmo_id observation_date  \n",
       "0                    1  1022.338013             1  1900816       2017-01-06  \n",
       "1                    1  1022.471008             1  1900816       2017-01-06  \n",
       "2                    1  1022.700012             1  1900816       2017-01-06  \n",
       "3                    1  1022.833008             1  1900816       2017-01-06  \n",
       "4                    1  1022.919006             1  1900816       2017-01-06  \n",
       "...                ...          ...           ...      ...              ...  \n",
       "5647092              1  1026.953979             1  5902487       2017-01-08  \n",
       "5647093              1  1026.953979             1  5902487       2017-01-08  \n",
       "5647094              1  1026.961060             1  5902487       2017-01-08  \n",
       "5647095              1  1026.964966             1  5902487       2017-01-08  \n",
       "5647096              1  1026.967041             1  5902487       2017-01-08  \n",
       "\n",
       "[3382716 rows x 10 columns]"
      ]
     },
     "execution_count": 810,
     "metadata": {},
     "output_type": "execute_result"
    }
   ],
   "source": [
    "df[df.duplicated(keep=False)] #Seeing the duplicated rows"
   ]
  },
  {
   "cell_type": "code",
   "execution_count": 811,
   "id": "2ec49e35",
   "metadata": {},
   "outputs": [],
   "source": [
    "# Drop duplicate rows\n",
    "df = df.drop_duplicates()\n",
    "\n",
    "# Reset the index so it’s clean and sequential\n",
    "df = df.reset_index(drop=True)"
   ]
  },
  {
   "cell_type": "code",
   "execution_count": 812,
   "id": "de1b94d9",
   "metadata": {},
   "outputs": [
    {
     "data": {
      "text/plain": [
       "False    3955466\n",
       "Name: count, dtype: int64"
      ]
     },
     "execution_count": 812,
     "metadata": {},
     "output_type": "execute_result"
    }
   ],
   "source": [
    "#Final Verification\n",
    "df.duplicated().value_counts()"
   ]
  },
  {
   "cell_type": "code",
   "execution_count": 813,
   "id": "2a72869d",
   "metadata": {},
   "outputs": [],
   "source": [
    "flag_cols = [\"depth_flag\", \"temperature_flag\", \"salinity_flag\", \"density_flag\"]\n",
    "\n",
    "# Keep only rows where all flag values are between 0 and 9\n",
    "df = df[(df[flag_cols].ge(0) & df[flag_cols].le(9)).all(axis=1)].reset_index(drop=True)"
   ]
  },
  {
   "cell_type": "code",
   "execution_count": 814,
   "id": "054d93b8",
   "metadata": {},
   "outputs": [
    {
     "data": {
      "text/plain": [
       "depth_flag\n",
       "1    3906488\n",
       "2      39105\n",
       "4       9873\n",
       "Name: count, dtype: int64"
      ]
     },
     "execution_count": 814,
     "metadata": {},
     "output_type": "execute_result"
    }
   ],
   "source": [
    "df['depth_flag'].value_counts()"
   ]
  },
  {
   "cell_type": "code",
   "execution_count": 815,
   "id": "c1c3971f",
   "metadata": {},
   "outputs": [
    {
     "data": {
      "text/plain": [
       "temperature_flag\n",
       "1    3903524\n",
       "2      39105\n",
       "4      12196\n",
       "3        641\n",
       "Name: count, dtype: int64"
      ]
     },
     "execution_count": 815,
     "metadata": {},
     "output_type": "execute_result"
    }
   ],
   "source": [
    "df['temperature_flag'].value_counts()"
   ]
  },
  {
   "cell_type": "code",
   "execution_count": 816,
   "id": "3af10521",
   "metadata": {},
   "outputs": [
    {
     "data": {
      "text/plain": [
       "salinity_flag\n",
       "1    3824375\n",
       "3      66396\n",
       "4      64695\n",
       "Name: count, dtype: int64"
      ]
     },
     "execution_count": 816,
     "metadata": {},
     "output_type": "execute_result"
    }
   ],
   "source": [
    "df['salinity_flag'].value_counts()"
   ]
  },
  {
   "cell_type": "code",
   "execution_count": 817,
   "id": "857fe5b0",
   "metadata": {},
   "outputs": [
    {
     "data": {
      "text/plain": [
       "density_flag\n",
       "1    3824140\n",
       "4      64930\n",
       "2      39105\n",
       "3      27291\n",
       "Name: count, dtype: int64"
      ]
     },
     "execution_count": 817,
     "metadata": {},
     "output_type": "execute_result"
    }
   ],
   "source": [
    "df['density_flag'].value_counts()"
   ]
  },
  {
   "cell_type": "code",
   "execution_count": 818,
   "id": "2779261b",
   "metadata": {},
   "outputs": [
    {
     "name": "stdout",
     "output_type": "stream",
     "text": [
      "2017\n"
     ]
    }
   ],
   "source": [
    "df.to_csv(f'cleaned/ARGO_DB_{year}_cleaned.csv',index=False)\n",
    "print(year)"
   ]
  }
 ],
 "metadata": {
  "kernelspec": {
   "display_name": ".venv",
   "language": "python",
   "name": "python3"
  },
  "language_info": {
   "codemirror_mode": {
    "name": "ipython",
    "version": 3
   },
   "file_extension": ".py",
   "mimetype": "text/x-python",
   "name": "python",
   "nbconvert_exporter": "python",
   "pygments_lexer": "ipython3",
   "version": "3.13.5"
  }
 },
 "nbformat": 4,
 "nbformat_minor": 5
}
