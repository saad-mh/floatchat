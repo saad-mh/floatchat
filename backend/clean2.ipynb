{
 "cells": [
  {
   "cell_type": "code",
   "execution_count": 133,
   "id": "221d526f",
   "metadata": {},
   "outputs": [],
   "source": [
    "import pandas as pd"
   ]
  },
  {
   "cell_type": "code",
   "execution_count": 134,
   "id": "8fe518b1",
   "metadata": {},
   "outputs": [
    {
     "name": "stdout",
     "output_type": "stream",
     "text": [
      "c:\\Personal Files\\Arya\\Programs\\FloatChat\\datasets\n"
     ]
    }
   ],
   "source": [
    "%cd ../datasets/"
   ]
  },
  {
   "cell_type": "code",
   "execution_count": 135,
   "id": "a21e8b7c",
   "metadata": {},
   "outputs": [],
   "source": [
    "#Cleaning the dataset 2002\n",
    "df=pd.read_csv(f'ARGO_OBSERVATIONS_ids_info_table.csv')"
   ]
  },
  {
   "cell_type": "code",
   "execution_count": 136,
   "id": "453cade3",
   "metadata": {},
   "outputs": [
    {
     "data": {
      "text/html": [
       "<div>\n",
       "<style scoped>\n",
       "    .dataframe tbody tr th:only-of-type {\n",
       "        vertical-align: middle;\n",
       "    }\n",
       "\n",
       "    .dataframe tbody tr th {\n",
       "        vertical-align: top;\n",
       "    }\n",
       "\n",
       "    .dataframe thead th {\n",
       "        text-align: right;\n",
       "    }\n",
       "</style>\n",
       "<table border=\"1\" class=\"dataframe\">\n",
       "  <thead>\n",
       "    <tr style=\"text-align: right;\">\n",
       "      <th></th>\n",
       "      <th>wmo_id</th>\n",
       "      <th>first_obs_date</th>\n",
       "      <th>latitude</th>\n",
       "      <th>longitude</th>\n",
       "      <th>no_of_profiles</th>\n",
       "      <th>status</th>\n",
       "      <th>deployed_country</th>\n",
       "    </tr>\n",
       "  </thead>\n",
       "  <tbody>\n",
       "    <tr>\n",
       "      <th>0</th>\n",
       "      <td>19001</td>\n",
       "      <td>2003-07-10 13:56:00</td>\n",
       "      <td>-16.871</td>\n",
       "      <td>58.622</td>\n",
       "      <td>10</td>\n",
       "      <td>INACTIVE</td>\n",
       "      <td>OTHERS</td>\n",
       "    </tr>\n",
       "    <tr>\n",
       "      <th>1</th>\n",
       "      <td>53546</td>\n",
       "      <td>2001-01-07 10:52:32</td>\n",
       "      <td>-14.158</td>\n",
       "      <td>120.410</td>\n",
       "      <td>42</td>\n",
       "      <td>INACTIVE</td>\n",
       "      <td>Australia</td>\n",
       "    </tr>\n",
       "    <tr>\n",
       "      <th>2</th>\n",
       "      <td>53547</td>\n",
       "      <td>2001-01-10 02:12:27</td>\n",
       "      <td>-7.419</td>\n",
       "      <td>101.661</td>\n",
       "      <td>89</td>\n",
       "      <td>INACTIVE</td>\n",
       "      <td>Australia</td>\n",
       "    </tr>\n",
       "    <tr>\n",
       "      <th>3</th>\n",
       "      <td>53548</td>\n",
       "      <td>2001-01-01 00:37:41</td>\n",
       "      <td>-15.252</td>\n",
       "      <td>114.304</td>\n",
       "      <td>120</td>\n",
       "      <td>INACTIVE</td>\n",
       "      <td>Australia</td>\n",
       "    </tr>\n",
       "    <tr>\n",
       "      <th>4</th>\n",
       "      <td>53553</td>\n",
       "      <td>2001-01-03 18:12:41</td>\n",
       "      <td>-14.046</td>\n",
       "      <td>107.970</td>\n",
       "      <td>56</td>\n",
       "      <td>INACTIVE</td>\n",
       "      <td>Australia</td>\n",
       "    </tr>\n",
       "    <tr>\n",
       "      <th>...</th>\n",
       "      <td>...</td>\n",
       "      <td>...</td>\n",
       "      <td>...</td>\n",
       "      <td>...</td>\n",
       "      <td>...</td>\n",
       "      <td>...</td>\n",
       "      <td>...</td>\n",
       "    </tr>\n",
       "    <tr>\n",
       "      <th>2858</th>\n",
       "      <td>6900746</td>\n",
       "      <td>2012-01-17 05:35:32</td>\n",
       "      <td>-37.209</td>\n",
       "      <td>20.185</td>\n",
       "      <td>64</td>\n",
       "      <td>INACTIVE</td>\n",
       "      <td>OTHERS</td>\n",
       "    </tr>\n",
       "    <tr>\n",
       "      <th>2859</th>\n",
       "      <td>6900747</td>\n",
       "      <td>2011-05-14 17:31:08</td>\n",
       "      <td>-47.176</td>\n",
       "      <td>20.267</td>\n",
       "      <td>76</td>\n",
       "      <td>INACTIVE</td>\n",
       "      <td>OTHERS</td>\n",
       "    </tr>\n",
       "    <tr>\n",
       "      <th>2860</th>\n",
       "      <td>6900748</td>\n",
       "      <td>2011-08-24 05:19:11</td>\n",
       "      <td>-48.286</td>\n",
       "      <td>20.790</td>\n",
       "      <td>85</td>\n",
       "      <td>INACTIVE</td>\n",
       "      <td>OTHERS</td>\n",
       "    </tr>\n",
       "    <tr>\n",
       "      <th>2861</th>\n",
       "      <td>6900749</td>\n",
       "      <td>2011-07-16 10:38:09</td>\n",
       "      <td>-50.904</td>\n",
       "      <td>20.392</td>\n",
       "      <td>91</td>\n",
       "      <td>INACTIVE</td>\n",
       "      <td>OTHERS</td>\n",
       "    </tr>\n",
       "    <tr>\n",
       "      <th>2862</th>\n",
       "      <td>6900750</td>\n",
       "      <td>2011-05-28 15:12:10</td>\n",
       "      <td>-51.953</td>\n",
       "      <td>35.002</td>\n",
       "      <td>73</td>\n",
       "      <td>INACTIVE</td>\n",
       "      <td>OTHERS</td>\n",
       "    </tr>\n",
       "  </tbody>\n",
       "</table>\n",
       "<p>2863 rows × 7 columns</p>\n",
       "</div>"
      ],
      "text/plain": [
       "       wmo_id       first_obs_date  latitude  longitude  no_of_profiles  \\\n",
       "0       19001  2003-07-10 13:56:00   -16.871     58.622              10   \n",
       "1       53546  2001-01-07 10:52:32   -14.158    120.410              42   \n",
       "2       53547  2001-01-10 02:12:27    -7.419    101.661              89   \n",
       "3       53548  2001-01-01 00:37:41   -15.252    114.304             120   \n",
       "4       53553  2001-01-03 18:12:41   -14.046    107.970              56   \n",
       "...       ...                  ...       ...        ...             ...   \n",
       "2858  6900746  2012-01-17 05:35:32   -37.209     20.185              64   \n",
       "2859  6900747  2011-05-14 17:31:08   -47.176     20.267              76   \n",
       "2860  6900748  2011-08-24 05:19:11   -48.286     20.790              85   \n",
       "2861  6900749  2011-07-16 10:38:09   -50.904     20.392              91   \n",
       "2862  6900750  2011-05-28 15:12:10   -51.953     35.002              73   \n",
       "\n",
       "        status deployed_country  \n",
       "0     INACTIVE           OTHERS  \n",
       "1     INACTIVE        Australia  \n",
       "2     INACTIVE        Australia  \n",
       "3     INACTIVE        Australia  \n",
       "4     INACTIVE        Australia  \n",
       "...        ...              ...  \n",
       "2858  INACTIVE           OTHERS  \n",
       "2859  INACTIVE           OTHERS  \n",
       "2860  INACTIVE           OTHERS  \n",
       "2861  INACTIVE           OTHERS  \n",
       "2862  INACTIVE           OTHERS  \n",
       "\n",
       "[2863 rows x 7 columns]"
      ]
     },
     "execution_count": 136,
     "metadata": {},
     "output_type": "execute_result"
    }
   ],
   "source": [
    "df"
   ]
  },
  {
   "cell_type": "code",
   "execution_count": 137,
   "id": "9858a64d",
   "metadata": {},
   "outputs": [
    {
     "name": "stdout",
     "output_type": "stream",
     "text": [
      "<class 'pandas.core.frame.DataFrame'>\n",
      "RangeIndex: 2863 entries, 0 to 2862\n",
      "Data columns (total 7 columns):\n",
      " #   Column            Non-Null Count  Dtype  \n",
      "---  ------            --------------  -----  \n",
      " 0   wmo_id            2863 non-null   int64  \n",
      " 1   first_obs_date    2863 non-null   object \n",
      " 2   latitude          2863 non-null   float64\n",
      " 3   longitude         2863 non-null   float64\n",
      " 4   no_of_profiles    2863 non-null   int64  \n",
      " 5   status            2863 non-null   object \n",
      " 6   deployed_country  2863 non-null   object \n",
      "dtypes: float64(2), int64(2), object(3)\n",
      "memory usage: 156.7+ KB\n"
     ]
    }
   ],
   "source": [
    "df.info() #Info about the dataset"
   ]
  },
  {
   "cell_type": "code",
   "execution_count": 138,
   "id": "025c6f59",
   "metadata": {},
   "outputs": [
    {
     "data": {
      "text/plain": [
       "wmo_id              0\n",
       "first_obs_date      0\n",
       "latitude            0\n",
       "longitude           0\n",
       "no_of_profiles      0\n",
       "status              0\n",
       "deployed_country    0\n",
       "dtype: int64"
      ]
     },
     "execution_count": 138,
     "metadata": {},
     "output_type": "execute_result"
    }
   ],
   "source": [
    "df.isnull().sum() ##No null values - checked"
   ]
  },
  {
   "cell_type": "code",
   "execution_count": 139,
   "id": "38f7d9a4",
   "metadata": {},
   "outputs": [],
   "source": [
    "# Set threshold (e.g., drop if more than 90% values are null)\n",
    "threshold = 0.3\n",
    "\n",
    "# Calculate null ratio per column\n",
    "null_ratio = df.isna().sum() / len(df)\n",
    "\n",
    "# Columns where null ratio exceeds threshold\n",
    "cols_to_drop = null_ratio[null_ratio > threshold].index.tolist()\n",
    "\n",
    "# Drop those columns\n",
    "df.drop(columns=cols_to_drop, inplace=True)\n",
    "\n",
    "# For the remaining columns, drop null rows and reset index\n",
    "df.dropna(axis=0, inplace=True)\n",
    "df.reset_index(drop=True, inplace=True)"
   ]
  },
  {
   "cell_type": "code",
   "execution_count": 140,
   "id": "eacef2d2",
   "metadata": {},
   "outputs": [
    {
     "data": {
      "text/plain": [
       "Index(['wmo_id', 'first_obs_date', 'latitude', 'longitude', 'no_of_profiles',\n",
       "       'status', 'deployed_country'],\n",
       "      dtype='object')"
      ]
     },
     "execution_count": 140,
     "metadata": {},
     "output_type": "execute_result"
    }
   ],
   "source": [
    "df.columns #Checking if there's extra whitespace in columns"
   ]
  },
  {
   "cell_type": "code",
   "execution_count": 141,
   "id": "ae9f7201",
   "metadata": {},
   "outputs": [],
   "source": [
    "#Trim if extra whitespace\n",
    "df.columns = df.columns.str.strip()"
   ]
  },
  {
   "cell_type": "code",
   "execution_count": 142,
   "id": "f22fe96c",
   "metadata": {},
   "outputs": [],
   "source": [
    "# Parse mixed datetime formats safely\n",
    "df[\"first_obs_date\"] = pd.to_datetime(df[\"first_obs_date\"], dayfirst=True, format='mixed')\n",
    "\n",
    "# Split into separate columns\n",
    "df[\"first_observation_date\"] = df[\"first_obs_date\"].dt.date\n",
    "df[\"first_observation_time\"] = df[\"first_obs_date\"].dt.time\n",
    "\n",
    "df.drop('first_obs_date',axis=1,inplace=True)"
   ]
  },
  {
   "cell_type": "code",
   "execution_count": 143,
   "id": "c71178d3",
   "metadata": {},
   "outputs": [
    {
     "name": "stdout",
     "output_type": "stream",
     "text": [
      "<class 'pandas.core.frame.DataFrame'>\n",
      "RangeIndex: 2863 entries, 0 to 2862\n",
      "Data columns (total 8 columns):\n",
      " #   Column                  Non-Null Count  Dtype  \n",
      "---  ------                  --------------  -----  \n",
      " 0   wmo_id                  2863 non-null   int64  \n",
      " 1   latitude                2863 non-null   float64\n",
      " 2   longitude               2863 non-null   float64\n",
      " 3   no_of_profiles          2863 non-null   int64  \n",
      " 4   status                  2863 non-null   object \n",
      " 5   deployed_country        2863 non-null   object \n",
      " 6   first_observation_date  2863 non-null   object \n",
      " 7   first_observation_time  2863 non-null   object \n",
      "dtypes: float64(2), int64(2), object(4)\n",
      "memory usage: 179.1+ KB\n"
     ]
    }
   ],
   "source": [
    "#seeing new info\n",
    "\n",
    "df.info()"
   ]
  },
  {
   "cell_type": "code",
   "execution_count": 144,
   "id": "8f25a562",
   "metadata": {},
   "outputs": [
    {
     "data": {
      "text/html": [
       "<div>\n",
       "<style scoped>\n",
       "    .dataframe tbody tr th:only-of-type {\n",
       "        vertical-align: middle;\n",
       "    }\n",
       "\n",
       "    .dataframe tbody tr th {\n",
       "        vertical-align: top;\n",
       "    }\n",
       "\n",
       "    .dataframe thead th {\n",
       "        text-align: right;\n",
       "    }\n",
       "</style>\n",
       "<table border=\"1\" class=\"dataframe\">\n",
       "  <thead>\n",
       "    <tr style=\"text-align: right;\">\n",
       "      <th></th>\n",
       "      <th>wmo_id</th>\n",
       "      <th>latitude</th>\n",
       "      <th>longitude</th>\n",
       "      <th>no_of_profiles</th>\n",
       "      <th>status</th>\n",
       "      <th>deployed_country</th>\n",
       "      <th>first_observation_date</th>\n",
       "      <th>first_observation_time</th>\n",
       "    </tr>\n",
       "  </thead>\n",
       "  <tbody>\n",
       "    <tr>\n",
       "      <th>0</th>\n",
       "      <td>19001</td>\n",
       "      <td>-16.871</td>\n",
       "      <td>58.622</td>\n",
       "      <td>10</td>\n",
       "      <td>INACTIVE</td>\n",
       "      <td>OTHERS</td>\n",
       "      <td>2003-07-10</td>\n",
       "      <td>13:56:00</td>\n",
       "    </tr>\n",
       "    <tr>\n",
       "      <th>1</th>\n",
       "      <td>53546</td>\n",
       "      <td>-14.158</td>\n",
       "      <td>120.410</td>\n",
       "      <td>42</td>\n",
       "      <td>INACTIVE</td>\n",
       "      <td>Australia</td>\n",
       "      <td>2001-01-07</td>\n",
       "      <td>10:52:32</td>\n",
       "    </tr>\n",
       "    <tr>\n",
       "      <th>2</th>\n",
       "      <td>53547</td>\n",
       "      <td>-7.419</td>\n",
       "      <td>101.661</td>\n",
       "      <td>89</td>\n",
       "      <td>INACTIVE</td>\n",
       "      <td>Australia</td>\n",
       "      <td>2001-01-10</td>\n",
       "      <td>02:12:27</td>\n",
       "    </tr>\n",
       "    <tr>\n",
       "      <th>3</th>\n",
       "      <td>53548</td>\n",
       "      <td>-15.252</td>\n",
       "      <td>114.304</td>\n",
       "      <td>120</td>\n",
       "      <td>INACTIVE</td>\n",
       "      <td>Australia</td>\n",
       "      <td>2001-01-01</td>\n",
       "      <td>00:37:41</td>\n",
       "    </tr>\n",
       "    <tr>\n",
       "      <th>4</th>\n",
       "      <td>53553</td>\n",
       "      <td>-14.046</td>\n",
       "      <td>107.970</td>\n",
       "      <td>56</td>\n",
       "      <td>INACTIVE</td>\n",
       "      <td>Australia</td>\n",
       "      <td>2001-01-03</td>\n",
       "      <td>18:12:41</td>\n",
       "    </tr>\n",
       "  </tbody>\n",
       "</table>\n",
       "</div>"
      ],
      "text/plain": [
       "   wmo_id  latitude  longitude  no_of_profiles    status deployed_country  \\\n",
       "0   19001   -16.871     58.622              10  INACTIVE           OTHERS   \n",
       "1   53546   -14.158    120.410              42  INACTIVE        Australia   \n",
       "2   53547    -7.419    101.661              89  INACTIVE        Australia   \n",
       "3   53548   -15.252    114.304             120  INACTIVE        Australia   \n",
       "4   53553   -14.046    107.970              56  INACTIVE        Australia   \n",
       "\n",
       "  first_observation_date first_observation_time  \n",
       "0             2003-07-10               13:56:00  \n",
       "1             2001-01-07               10:52:32  \n",
       "2             2001-01-10               02:12:27  \n",
       "3             2001-01-01               00:37:41  \n",
       "4             2001-01-03               18:12:41  "
      ]
     },
     "execution_count": 144,
     "metadata": {},
     "output_type": "execute_result"
    }
   ],
   "source": [
    "df.head()"
   ]
  },
  {
   "cell_type": "code",
   "execution_count": 145,
   "id": "11898a7b",
   "metadata": {},
   "outputs": [
    {
     "data": {
      "text/plain": [
       "False    2863\n",
       "Name: count, dtype: int64"
      ]
     },
     "execution_count": 145,
     "metadata": {},
     "output_type": "execute_result"
    }
   ],
   "source": [
    "#Checking for duplicate tuples\n",
    "df.duplicated().value_counts()"
   ]
  },
  {
   "cell_type": "code",
   "execution_count": 146,
   "id": "d8f43dfe",
   "metadata": {},
   "outputs": [
    {
     "data": {
      "text/html": [
       "<div>\n",
       "<style scoped>\n",
       "    .dataframe tbody tr th:only-of-type {\n",
       "        vertical-align: middle;\n",
       "    }\n",
       "\n",
       "    .dataframe tbody tr th {\n",
       "        vertical-align: top;\n",
       "    }\n",
       "\n",
       "    .dataframe thead th {\n",
       "        text-align: right;\n",
       "    }\n",
       "</style>\n",
       "<table border=\"1\" class=\"dataframe\">\n",
       "  <thead>\n",
       "    <tr style=\"text-align: right;\">\n",
       "      <th></th>\n",
       "      <th>wmo_id</th>\n",
       "      <th>latitude</th>\n",
       "      <th>longitude</th>\n",
       "      <th>no_of_profiles</th>\n",
       "      <th>status</th>\n",
       "      <th>deployed_country</th>\n",
       "      <th>first_observation_date</th>\n",
       "      <th>first_observation_time</th>\n",
       "    </tr>\n",
       "  </thead>\n",
       "  <tbody>\n",
       "  </tbody>\n",
       "</table>\n",
       "</div>"
      ],
      "text/plain": [
       "Empty DataFrame\n",
       "Columns: [wmo_id, latitude, longitude, no_of_profiles, status, deployed_country, first_observation_date, first_observation_time]\n",
       "Index: []"
      ]
     },
     "execution_count": 146,
     "metadata": {},
     "output_type": "execute_result"
    }
   ],
   "source": [
    "df[df.duplicated(keep=False)] #Seeing the duplicated rows"
   ]
  },
  {
   "cell_type": "code",
   "execution_count": 147,
   "id": "2ec49e35",
   "metadata": {},
   "outputs": [],
   "source": [
    "# Drop duplicate rows\n",
    "df = df.drop_duplicates()\n",
    "\n",
    "# Reset the index so it’s clean and sequential\n",
    "df = df.reset_index(drop=True)"
   ]
  },
  {
   "cell_type": "code",
   "execution_count": 148,
   "id": "de1b94d9",
   "metadata": {},
   "outputs": [
    {
     "data": {
      "text/plain": [
       "False    2863\n",
       "Name: count, dtype: int64"
      ]
     },
     "execution_count": 148,
     "metadata": {},
     "output_type": "execute_result"
    }
   ],
   "source": [
    "#Final Verification\n",
    "df.duplicated().value_counts()"
   ]
  },
  {
   "cell_type": "code",
   "execution_count": 149,
   "id": "2779261b",
   "metadata": {},
   "outputs": [],
   "source": [
    "df.to_csv(f'cleaned/ARGO_DB_ids_info_table_cleaned.csv',index=False)"
   ]
  }
 ],
 "metadata": {
  "kernelspec": {
   "display_name": ".venv",
   "language": "python",
   "name": "python3"
  },
  "language_info": {
   "codemirror_mode": {
    "name": "ipython",
    "version": 3
   },
   "file_extension": ".py",
   "mimetype": "text/x-python",
   "name": "python",
   "nbconvert_exporter": "python",
   "pygments_lexer": "ipython3",
   "version": "3.13.5"
  }
 },
 "nbformat": 4,
 "nbformat_minor": 5
}
