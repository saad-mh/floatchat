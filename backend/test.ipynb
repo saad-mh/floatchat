{
 "cells": [
  {
   "cell_type": "code",
   "execution_count": null,
   "id": "9e48d7c7",
   "metadata": {},
   "outputs": [],
   "source": []
  },
  {
   "cell_type": "code",
   "execution_count": null,
   "id": "2e64e9e2",
   "metadata": {},
   "outputs": [
    {
     "name": "stdout",
     "output_type": "stream",
     "text": [
      "Requirement already satisfied: pandas in ./.venv/lib/python3.12/site-packages (2.3.3)\n",
      "Requirement already satisfied: numpy>=1.26.0 in ./.venv/lib/python3.12/site-packages (from pandas) (2.3.4)\n",
      "Requirement already satisfied: python-dateutil>=2.8.2 in ./.venv/lib/python3.12/site-packages (from pandas) (2.9.0.post0)\n",
      "Requirement already satisfied: pytz>=2020.1 in ./.venv/lib/python3.12/site-packages (from pandas) (2025.2)\n",
      "Requirement already satisfied: tzdata>=2022.7 in ./.venv/lib/python3.12/site-packages (from pandas) (2025.2)\n",
      "Requirement already satisfied: six>=1.5 in ./.venv/lib/python3.12/site-packages (from python-dateutil>=2.8.2->pandas) (1.17.0)\n"
     ]
    }
   ],
   "source": [
    "import pandas as pd"
   ]
  },
  {
   "cell_type": "code",
   "execution_count": 13,
   "id": "7b54424b",
   "metadata": {},
   "outputs": [],
   "source": [
    "df=pd.read_csv('float_1900121_prof_full.csv')\n",
    "measurements=pd.read_csv('float_1900121_prof_measurements.csv')\n",
    "metadata=pd.read_csv('float_1900121_prof_metadata.csv')"
   ]
  },
  {
   "cell_type": "code",
   "execution_count": 14,
   "id": "870811d5",
   "metadata": {},
   "outputs": [
    {
     "data": {
      "text/plain": [
       "Index(['measurement_id', 'float_id', 'cycle_number', 'PRES', 'TEMP', 'PSAL'], dtype='object')"
      ]
     },
     "execution_count": 14,
     "metadata": {},
     "output_type": "execute_result"
    }
   ],
   "source": [
    "measurements.columns"
   ]
  },
  {
   "cell_type": "code",
   "execution_count": 15,
   "id": "79990cab",
   "metadata": {},
   "outputs": [
    {
     "data": {
      "text/plain": [
       "Index(['DATA_TYPE', 'FORMAT_VERSION', 'HANDBOOK_VERSION',\n",
       "       'REFERENCE_DATE_TIME', 'DATE_CREATION', 'DATE_UPDATE',\n",
       "       'PLATFORM_NUMBER', 'PROJECT_NAME', 'PI_NAME', 'STATION_PARAMETERS',\n",
       "       'CYCLE_NUMBER', 'DIRECTION', 'DATA_CENTRE', 'DC_REFERENCE',\n",
       "       'DATA_STATE_INDICATOR', 'DATA_MODE', 'PLATFORM_TYPE', 'FLOAT_SERIAL_NO',\n",
       "       'FIRMWARE_VERSION', 'WMO_INST_TYPE', 'JULD', 'JULD_QC', 'JULD_LOCATION',\n",
       "       'LATITUDE', 'LONGITUDE', 'POSITION_QC', 'POSITIONING_SYSTEM',\n",
       "       'PROFILE_PRES_QC', 'PROFILE_TEMP_QC', 'PROFILE_PSAL_QC',\n",
       "       'VERTICAL_SAMPLING_SCHEME', 'CONFIG_MISSION_NUMBER', 'PRES_QC',\n",
       "       'PRES_ADJUSTED', 'PRES_ADJUSTED_QC', 'PRES_ADJUSTED_ERROR', 'TEMP_QC',\n",
       "       'TEMP_ADJUSTED', 'TEMP_ADJUSTED_QC', 'TEMP_ADJUSTED_ERROR', 'PSAL_QC',\n",
       "       'PSAL_ADJUSTED', 'PSAL_ADJUSTED_QC', 'PSAL_ADJUSTED_ERROR', 'PARAMETER',\n",
       "       'SCIENTIFIC_CALIB_EQUATION', 'SCIENTIFIC_CALIB_COEFFICIENT',\n",
       "       'SCIENTIFIC_CALIB_COMMENT', 'SCIENTIFIC_CALIB_DATE', 'float_id',\n",
       "       'cycle_number'],\n",
       "      dtype='object')"
      ]
     },
     "execution_count": 15,
     "metadata": {},
     "output_type": "execute_result"
    }
   ],
   "source": [
    "metadata.columns"
   ]
  },
  {
   "cell_type": "code",
   "execution_count": 7,
   "id": "0b9e6cc9",
   "metadata": {},
   "outputs": [
    {
     "data": {
      "text/plain": [
       "Index(['DATA_TYPE', 'FORMAT_VERSION', 'HANDBOOK_VERSION',\n",
       "       'REFERENCE_DATE_TIME', 'DATE_CREATION', 'DATE_UPDATE',\n",
       "       'PLATFORM_NUMBER', 'PROJECT_NAME', 'PI_NAME', 'STATION_PARAMETERS',\n",
       "       'CYCLE_NUMBER', 'DIRECTION', 'DATA_CENTRE', 'DC_REFERENCE',\n",
       "       'DATA_STATE_INDICATOR', 'DATA_MODE', 'PLATFORM_TYPE', 'FLOAT_SERIAL_NO',\n",
       "       'FIRMWARE_VERSION', 'WMO_INST_TYPE', 'JULD', 'JULD_QC', 'JULD_LOCATION',\n",
       "       'LATITUDE', 'LONGITUDE', 'POSITION_QC', 'POSITIONING_SYSTEM',\n",
       "       'PROFILE_PRES_QC', 'PROFILE_TEMP_QC', 'PROFILE_PSAL_QC',\n",
       "       'VERTICAL_SAMPLING_SCHEME', 'CONFIG_MISSION_NUMBER', 'PRES', 'PRES_QC',\n",
       "       'PRES_ADJUSTED', 'PRES_ADJUSTED_QC', 'PRES_ADJUSTED_ERROR', 'TEMP',\n",
       "       'TEMP_QC', 'TEMP_ADJUSTED', 'TEMP_ADJUSTED_QC', 'TEMP_ADJUSTED_ERROR',\n",
       "       'PSAL', 'PSAL_QC', 'PSAL_ADJUSTED', 'PSAL_ADJUSTED_QC',\n",
       "       'PSAL_ADJUSTED_ERROR', 'PARAMETER', 'SCIENTIFIC_CALIB_EQUATION',\n",
       "       'SCIENTIFIC_CALIB_COEFFICIENT', 'SCIENTIFIC_CALIB_COMMENT',\n",
       "       'SCIENTIFIC_CALIB_DATE'],\n",
       "      dtype='object')"
      ]
     },
     "execution_count": 7,
     "metadata": {},
     "output_type": "execute_result"
    }
   ],
   "source": [
    "df.columns"
   ]
  },
  {
   "cell_type": "code",
   "execution_count": 4,
   "id": "4858f0b0",
   "metadata": {},
   "outputs": [
    {
     "name": "stdout",
     "output_type": "stream",
     "text": [
      "             DATA_TYPE FORMAT_VERSION HANDBOOK_VERSION REFERENCE_DATE_TIME  \\\n",
      "0  b'Argo profile    '        b'3.1 '          b'1.2 '   b'19500101000000'   \n",
      "1                  NaN            NaN              NaN                 NaN   \n",
      "2                  NaN            NaN              NaN                 NaN   \n",
      "3                  NaN            NaN              NaN                 NaN   \n",
      "4                  NaN            NaN              NaN                 NaN   \n",
      "\n",
      "       DATE_CREATION        DATE_UPDATE PLATFORM_NUMBER  \\\n",
      "0  b'20040615193844'  b'20190405121019'     b'1900121 '   \n",
      "1                NaN                NaN     b'1900121 '   \n",
      "2                NaN                NaN     b'1900121 '   \n",
      "3                NaN                NaN     b'1900121 '   \n",
      "4                NaN                NaN     b'1900121 '   \n",
      "\n",
      "                                        PROJECT_NAME  \\\n",
      "0  b'Argo INDIA                                  ...   \n",
      "1  b'Argo INDIA                                  ...   \n",
      "2  b'Argo INDIA                                  ...   \n",
      "3  b'Argo INDIA                                  ...   \n",
      "4  b'Argo INDIA                                  ...   \n",
      "\n",
      "                                             PI_NAME   STATION_PARAMETERS  \\\n",
      "0  b'M Ravichandran                              ...  b'PRES            '   \n",
      "1  b'M Ravichandran                              ...  b'TEMP            '   \n",
      "2  b'M Ravichandran                              ...  b'PSAL            '   \n",
      "3  b'M Ravichandran                              ...  b'PRES            '   \n",
      "4  b'M Ravichandran                              ...  b'TEMP            '   \n",
      "\n",
      "   ...  HISTORY_SOFTWARE HISTORY_SOFTWARE_RELEASE HISTORY_REFERENCE  \\\n",
      "0  ...               NaN                      NaN               NaN   \n",
      "1  ...               NaN                      NaN               NaN   \n",
      "2  ...               NaN                      NaN               NaN   \n",
      "3  ...               NaN                      NaN               NaN   \n",
      "4  ...               NaN                      NaN               NaN   \n",
      "\n",
      "  HISTORY_DATE HISTORY_ACTION HISTORY_PARAMETER HISTORY_START_PRES  \\\n",
      "0          NaN            NaN               NaN                NaN   \n",
      "1          NaN            NaN               NaN                NaN   \n",
      "2          NaN            NaN               NaN                NaN   \n",
      "3          NaN            NaN               NaN                NaN   \n",
      "4          NaN            NaN               NaN                NaN   \n",
      "\n",
      "  HISTORY_STOP_PRES HISTORY_PREVIOUS_VALUE HISTORY_QCTEST  \n",
      "0               NaN                    NaN            NaN  \n",
      "1               NaN                    NaN            NaN  \n",
      "2               NaN                    NaN            NaN  \n",
      "3               NaN                    NaN            NaN  \n",
      "4               NaN                    NaN            NaN  \n",
      "\n",
      "[5 rows x 62 columns]\n"
     ]
    }
   ],
   "source": [
    "print(df.head())"
   ]
  },
  {
   "cell_type": "code",
   "execution_count": null,
   "id": "115b0984",
   "metadata": {},
   "outputs": [],
   "source": []
  }
 ],
 "metadata": {
  "kernelspec": {
   "display_name": ".venv",
   "language": "python",
   "name": "python3"
  },
  "language_info": {
   "codemirror_mode": {
    "name": "ipython",
    "version": 3
   },
   "file_extension": ".py",
   "mimetype": "text/x-python",
   "name": "python",
   "nbconvert_exporter": "python",
   "pygments_lexer": "ipython3",
   "version": "3.12.12"
  }
 },
 "nbformat": 4,
 "nbformat_minor": 5
}
